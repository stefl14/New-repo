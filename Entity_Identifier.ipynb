{
 "cells": [
  {
   "cell_type": "markdown",
   "metadata": {},
   "source": [
    "## Project Description"
   ]
  },
  {
   "cell_type": "markdown",
   "metadata": {},
   "source": [
    "The aims of this project is to classify elements of a list of named entities males, females or businesss of specific types. For example, \"John Smith\" would be classified as a male and \"Johnson and Fowler Car Washing\" would be classified as a partnership in an ideal world. While this may seem like an arbitrary classification task, its goal is to engineer features for another project. The project in question attempts to predict the probability of entities (e.g. homeowners, landlords or businesses) complying with fines for failing to maintain the appearance of their properties in Detroit. This is useful because it gives the city better information about which violators it should focus its resources on when chasing fines. One of the features in the dataset for this project is the violator's name. Unfortunately, there is no type associated with these names. That is, there is no indication as to whether \"Jane Doe\" is a female or a multinational corporation, even though an entity's type is likely to be highly informative about whether or not it is likely to comply with a fine. As a result, a highly accurate model for classifying entities based solely on short strings of text (the names) is likely to be of use for the predictive success of the project. Manually labelling the features is not feasible because there are circa 200,000 rows.\n",
    "\n",
    "A carefully designed neural network might achieve superhuman success in this task. Without domain specific knowledge, it is unlikely that a person will be able to separate businesses into highly specific categories as well as a high performance network can. However, in the case of determining gender from names even a relatively sophisticated model might not outperform people. Virtually everyone has domain specific knowledge in determining gender from names. We do it all the time in our day to day life. It is also extremely difficult for a model to generalise to unseen data to determine gender because, in many cases, the \"rules\" that determine whether an individual is male or female are violated. In addition, in some cases it is impossible to predict name from gender with high probability because of unisex names. Given relatively limited training data (explained below), this means our expectations should be somewhat tempered when it comes to categorising people as male or female. Humans can rely on their vast experience to identify exceptions to rules, something a neural network may not be able to do given the limited size of our training data (explained below)."
   ]
  },
  {
   "cell_type": "markdown",
   "metadata": {},
   "source": [
    "## Datasets"
   ]
  },
  {
   "cell_type": "markdown",
   "metadata": {},
   "source": [
    "The ambitious nature of the task at hand is further amplified by the fact that the training data is unlikely to be representative of the actual data we want to predict on. The data we want to predict on contains (for the most part) both first names and last names for cases in which the violating entities are people. Since the data to predict on has a mixture of entity types with no labels, it is not possible to eliminate last names from the dataset. Because of the lack of labels, doing so would also delete important tokens from non name entities. It was therefore necessary to source data containing both first and last names along with their gender labels. This naturally limited the size and representativeness of the training dataset. In the end, data from US prison inmates was used for names. This data is limited in size and is unlikely to be representative of the Detroit blight violator population as a whole for many reasons, including the fact that the inmate population is not representative of society at large.\n",
    "\n",
    "The training data for business names comes from Iowa, where there may be subtle naming convention differences compared to Detroit. The data contains the names of registered businesses and their types. All of the data issues mentioned thus far are likely to reduce the ability of the model to generalise to the data to predict on. Performance on the unseen test set will therefore be an overestimate of performance in the application that matters for our problem.\n",
    "\n",
    "Generalisation performance will be made more difficult still by formatting issues. For example, some of the name strings in the data we want to predict on contains middle names and some don't. It is not possible to remove middle names because we don't have labels for which entities are people and which are businesses. It is therefore difficult to train on data of the same format of the names we actually see in practice. This is a big issue, since if we remove middle names from the training data, the model may simply predict that entities with more than two words are businesses. On the contrary, if we don't remove middle names, there may be insufficient training examples of names with no middle name, in which case any name with only two words in the dataset may be predicted to be a business. The solution used here involved inserting a random letter to indicate the presence of a middle name into the training data. This is an imperfect solution for a number of reasons, but should work well to combat the issues outlined above."
   ]
  },
  {
   "cell_type": "markdown",
   "metadata": {},
   "source": [
    "## Model Architecture"
   ]
  },
  {
   "cell_type": "markdown",
   "metadata": {},
   "source": [
    "This architecture of this model was inspired by a 2017 paper used to determine nationalities from names. The model creates character level unigram, bigrams and trigram sequences from names, learns word embeddings from the tokens in these sequences and passes the embedded sequences into three separate LSTM networks, the results of which are concatenated and passed through a dense layer to determine the class of each word. More details of the approach used can be found in the paper or by following along with the project here. The paper used for inspiration and a source for adaptation can be found at the following link:\n",
    "\n",
    "https://www.ijcai.org/proceedings/2017/0289.pdf\n",
    "\n",
    "Note that there are multiple differences from the paper in the Keras adapted version used here, but these are not overly important."
   ]
  },
  {
   "cell_type": "markdown",
   "metadata": {},
   "source": [
    "## Model Performance"
   ]
  },
  {
   "cell_type": "markdown",
   "metadata": {},
   "source": [
    "Although we don't have labels for the column to predict on, simple observation of a medium size sample shows that the model performs relatively poorly. A very high proportion of data points can easily be identified by a human as misclassified, despite the very good performance on an unseen test set. Ultimately, converting the column using this classifier was not able to improve performance on the blight prediction task and so was not used. This is likely due to all of the issues outlined above, which made the project extremely ambitious. Hyperparameter tuning was not carried out due to limitations in both time and computing power but also because it is unlikely that it would have improved matters: the base level performance was fairly good but the performance on the application data was far worse, thus indicating that the problems above were somewhat insurmountable.\n",
    "\n",
    "Despite difficulties engineering useful features in practice with this model, the project proved useful in demonstrating how to adapt concepts from an academic paper into a Keras multi input neural network. Though the network in the 2017 paper aimed to identify nationality from names, the strong performance of a similar model on the test set here in a different problem domain demonstrates the usefulness of the methods and shows that the concepts used are likely applicable to many other text classification problems. The lack of success in generating useful features likely stems from the very specific nature of the underlying data to predict on and an inability to find similar training data. The model itself, however, is very successful. To demonstrate the usefulness of the model, its performance is compared with a simplistic out of the box gradient boosting model. Though no complex feature engineering or tuning was carried out on the gradient boosting model, the difference in performance is a strong indicator that the complex model is a good idea, especially given that tuning often does little for performance in a gradient boosting model."
   ]
  },
  {
   "cell_type": "markdown",
   "metadata": {},
   "source": [
    "## Data Preprocessing and Exploration"
   ]
  },
  {
   "cell_type": "code",
   "execution_count": 1,
   "metadata": {
    "colab": {
     "base_uri": "https://localhost:8080/",
     "height": 34
    },
    "colab_type": "code",
    "id": "i0Ztot0B3_nc",
    "outputId": "a554d153-36a3-4a67-9ab8-74698417c18c"
   },
   "outputs": [
    {
     "name": "stderr",
     "output_type": "stream",
     "text": [
      "Using TensorFlow backend.\n"
     ]
    }
   ],
   "source": [
    "import pandas as pd\n",
    "from sklearn.model_selection import train_test_split\n",
    "from keras.preprocessing.text import Tokenizer\n",
    "from numpy import array\n",
    "from keras.preprocessing.sequence import pad_sequences\n",
    "from keras.models import Model\n",
    "from keras.layers import Dense, Embedding, Dropout, Concatenate, Activation, Input, CuDNNLSTM\n",
    "from keras.callbacks import EarlyStopping\n",
    "import numpy as np\n",
    "import keras\n",
    "\n",
    "# Set seed values to get reproducible results with Keras\n",
    "from numpy.random import seed\n",
    "seed(1)\n",
    "from tensorflow import set_random_seed\n",
    "set_random_seed(2)"
   ]
  },
  {
   "cell_type": "code",
   "execution_count": 54,
   "metadata": {
    "colab": {
     "base_uri": "https://localhost:8080/",
     "height": 51
    },
    "colab_type": "code",
    "id": "d1DZk5b94KUh",
    "outputId": "bc65d7ba-efc8-402f-e7c5-423376acc33b"
   },
   "outputs": [
    {
     "name": "stderr",
     "output_type": "stream",
     "text": [
      "/usr/local/lib/python3.6/dist-packages/IPython/core/interactiveshell.py:2718: DtypeWarning: Columns (9) have mixed types. Specify dtype option on import or set low_memory=False.\n",
      "  interactivity=interactivity, compiler=compiler, result=result)\n"
     ]
    }
   ],
   "source": [
    "# Create dataframes for the following CSV files.\n",
    "businesses = pd.read_csv('Active_Iowa_Business_Entities.csv')\n",
    "black_female = pd.read_csv('Black-Female-Names.csv')\n",
    "black_male = pd.read_csv('Black-Male-Names.csv')\n",
    "hispanic_female = pd.read_csv('Hispanic-Female-Names.csv')\n",
    "hispanic_male = pd.read_csv('Hispanic-Male-Names.csv')\n",
    "white_female = pd.read_csv('White-Female-Names.csv')\n",
    "white_male = pd.read_csv('White-Male-Names.csv')"
   ]
  },
  {
   "cell_type": "code",
   "execution_count": 55,
   "metadata": {
    "colab": {
     "base_uri": "https://localhost:8080/",
     "height": 623
    },
    "colab_type": "code",
    "id": "AiUAcW6b4Pg8",
    "outputId": "ba3cdaa0-7e44-4b4c-a0c1-227269a130ee"
   },
   "outputs": [
    {
     "data": {
      "text/plain": [
       "type\n",
       "CO-OP NON STOCK                                             139\n",
       "CO-OP NON-PROFIT                                              2\n",
       "CO-OP PROFIT                                                  2\n",
       "CO-OP STOCK                                                 120\n",
       "CO-OP STOCK VALUE ADDED                                      13\n",
       "COUNTY AND CITY AUTHORITY                                     5\n",
       "COUNTY GENERAL PARTNERSHIP                                    3\n",
       "DOMESTIC BANKS                                              328\n",
       "DOMESTIC COOPERATIVE                                         20\n",
       "DOMESTIC LIMITED LIABILITY COMPANY                       112495\n",
       "DOMESTIC LIMITED LIABILITY LIMITED PARTNERSHIP              512\n",
       "DOMESTIC LIMITED LIABILITY PARTNERSHIP                     2765\n",
       "DOMESTIC LIMITED PARTNERSHIP                               1454\n",
       "DOMESTIC PROFESSIONAL                                      3082\n",
       "DOMESTIC PROFESSIONAL LIMITED LIABILITY COMPANY            1368\n",
       "DOMESTIC PROFIT                                           54533\n",
       "DOMESTIC SAVINGS & LOAN                                      16\n",
       "FARM CORP (NON REGIST.)                                       2\n",
       "FED FEDERAL FILING (NOT UNDER IOWA CHAPTER)                  10\n",
       "FOREIGN COOPERATIVE                                           1\n",
       "FOREIGN LIMITED LIABILITY COMPANY                         11400\n",
       "FOREIGN LIMITED LIABILITY LIMITED PARTNERSHIP                21\n",
       "FOREIGN LIMITED LIABILITY PARTNERSHIP                       174\n",
       "FOREIGN LIMITED PARTNERSHIP                                 582\n",
       "FOREIGN PROFESSIONAL                                        273\n",
       "FOREIGN PROFESSIONAL LIMITED LIABILITY COMPANY               60\n",
       "FOREIGN PROFIT                                            15297\n",
       "GENERAL PARTNERSHIP                                         181\n",
       "INSURANCE COMPANIES                                         122\n",
       "MULTIPLE HOUSING ACT                                       1166\n",
       "REVISED DOMESTIC NON-PROFIT                               28982\n",
       "REVISED FOREIGN NON-PROFIT                                 1112\n",
       "REVISED UNIFORM UNINCORPORATED NON-PROFIT ASSOCIATION        85\n",
       "dtype: int64"
      ]
     },
     "execution_count": 55,
     "metadata": {
      "tags": []
     },
     "output_type": "execute_result"
    }
   ],
   "source": [
    "# We only want input and target variables from the businesses dataframe. Rename these to name \n",
    "# and type for concatenation with the names dataset.\n",
    "businesses = businesses[['Legal Name', 'Corporation Type']]\n",
    "businesses.columns = ['name', 'type']\n",
    "\n",
    "# Determine the size of each group. For small groups there may not be enough data to learn a mapping from names to business type.\n",
    "# In such cases we will create composite groups.\n",
    "businesses.groupby('type').size()"
   ]
  },
  {
   "cell_type": "code",
   "execution_count": 56,
   "metadata": {
    "colab": {
     "base_uri": "https://localhost:8080/",
     "height": 589
    },
    "colab_type": "code",
    "id": "dCuBPs0u4dee",
    "outputId": "a6f87f29-6862-41d0-ffa9-919d6c7cb605"
   },
   "outputs": [
    {
     "name": "stdout",
     "output_type": "stream",
     "text": [
      "0 CO-OP NON STOCK\n",
      "1 CO-OP NON-PROFIT\n",
      "2 CO-OP PROFIT\n",
      "3 CO-OP STOCK\n",
      "4 CO-OP STOCK VALUE ADDED\n",
      "5 COUNTY AND CITY AUTHORITY\n",
      "6 COUNTY GENERAL PARTNERSHIP\n",
      "7 DOMESTIC BANKS\n",
      "8 DOMESTIC COOPERATIVE\n",
      "9 DOMESTIC LIMITED LIABILITY COMPANY\n",
      "10 DOMESTIC LIMITED LIABILITY LIMITED PARTNERSHIP\n",
      "11 DOMESTIC LIMITED LIABILITY PARTNERSHIP\n",
      "12 DOMESTIC LIMITED PARTNERSHIP\n",
      "13 DOMESTIC PROFESSIONAL\n",
      "14 DOMESTIC PROFESSIONAL LIMITED LIABILITY COMPANY\n",
      "15 DOMESTIC PROFIT\n",
      "16 DOMESTIC SAVINGS & LOAN\n",
      "17 FARM CORP (NON REGIST.)\n",
      "18 FED FEDERAL FILING (NOT UNDER IOWA CHAPTER)\n",
      "19 FOREIGN COOPERATIVE\n",
      "20 FOREIGN LIMITED LIABILITY COMPANY\n",
      "21 FOREIGN LIMITED LIABILITY LIMITED PARTNERSHIP\n",
      "22 FOREIGN LIMITED LIABILITY PARTNERSHIP\n",
      "23 FOREIGN LIMITED PARTNERSHIP\n",
      "24 FOREIGN PROFESSIONAL\n",
      "25 FOREIGN PROFESSIONAL LIMITED LIABILITY COMPANY\n",
      "26 FOREIGN PROFIT\n",
      "27 GENERAL PARTNERSHIP\n",
      "28 INSURANCE COMPANIES\n",
      "29 MULTIPLE HOUSING ACT\n",
      "30 REVISED DOMESTIC NON-PROFIT\n",
      "31 REVISED FOREIGN NON-PROFIT\n",
      "32 REVISED UNIFORM UNINCORPORATED NON-PROFIT ASSOCIATION\n"
     ]
    }
   ],
   "source": [
    "# As we can see, there are many groups. Such granularity is unecessary for our purposes. Furthermore, for some groups there\n",
    "# aren't lots of data points to learn accurate mappings from name to type with a deep learning model. We will therefore form \n",
    "# composite groups from similar types. Since similar types have similar type names, it is a good idea to first create a sorted\n",
    "# list of the groups. This will make forming composite groups using list indices much easier.\n",
    "\n",
    "# Create a sorted list of business types.\n",
    "a = sorted(list(set(businesses['type'].values)))\n",
    "# Print a list of types and their associated indices in the sorted list.\n",
    "for i, j in enumerate(a):\n",
    "  print(i,j)"
   ]
  },
  {
   "cell_type": "code",
   "execution_count": 57,
   "metadata": {
    "colab": {
     "base_uri": "https://localhost:8080/",
     "height": 225
    },
    "colab_type": "code",
    "id": "Lq45O6al4hx2",
    "outputId": "acbf2c1b-4437-46df-a562-b1aa825f7464"
   },
   "outputs": [
    {
     "data": {
      "text/plain": [
       "type\n",
       "DOMESTIC PROFIT       54533\n",
       "coop                    295\n",
       "finance                 466\n",
       "foreign profit        15297\n",
       "housing                1166\n",
       "limited liability    130831\n",
       "non profit            30181\n",
       "other                    17\n",
       "partnership             184\n",
       "professional           3355\n",
       "dtype: int64"
      ]
     },
     "execution_count": 57,
     "metadata": {
      "tags": []
     },
     "output_type": "execute_result"
    }
   ],
   "source": [
    "# When forming composite groups, decisions had to be made about where to place certain businesses that would fit into two \n",
    "# categories. For example, there are professional companies that are also limited liability companies. \n",
    "# Similarly, there are cooperatives that are also non profits. In such cases, the categorisation decisions reflect what is\n",
    "# intuitively considered the more important defining factor of the entity type for the likelihood of paying blight fines \n",
    "# (which is what this whole project is for, ultimately). For example, the fact that a company is non profit\n",
    "# is likely more important than the fact that it is a cooperative. \n",
    "\n",
    "\n",
    "# Create a composite group of non-profits.\n",
    "non_profit = a[30:] + [a[1]]\n",
    "# Create a composite group of limited liability companies.\n",
    "limited_liability = a[9:13] + [a[14]] + a[20:24] + [a[25]] \n",
    "# Create a composite group of cooperative companies\n",
    "coop = [a[0]]+a[2:5]+[a[8]]+[a[19]]\n",
    "# Multiple housing act (residential cooperative) composite group.\n",
    "housing = [a[29]]\n",
    "# Banks, insurance companies and savings and loan institutions composite group\n",
    "finance = [a[7]] + [a[28]] + [a[16]]\n",
    "# Domestic profit composite group\n",
    "domestic_profit = [a[15]]\n",
    "# Foreign profit composite group\n",
    "foreign_profit = [a[26]]\n",
    "# Professional (group domestic and foreign as foreign is a small group) composite group\n",
    "professional = [a[24]]+[a[13]]\n",
    "# Partnership composite group\n",
    "partnership = [a[27]]+[a[6]]\n",
    "\n",
    "\n",
    "\n",
    "# Other (not enough data points to form single groups, not enough similarity with other groups to form composite groups).\n",
    "# County and city authority, farm corps, fed filing etc fit into other. Note this is a very small composite group, creating very\n",
    "# imbalanced classes. The model may fail to learn this group and simply fit members into a larger class since predicting\n",
    "# large classes by default can reduce training loss, which backpropagation tries to minimise.\n",
    "non_other = non_profit + limited_liability + coop + housing + finance + domestic_profit + foreign_profit + professional + partnership\n",
    "other = [i for i in a if i not in non_other]\n",
    "\n",
    "# Re label types in the businesses dataframe to reflect composite groupings.\n",
    "businesses.replace(non_profit, 'non profit', inplace = True)\n",
    "businesses.replace(limited_liability, 'limited liability', inplace = True)\n",
    "businesses.replace(coop, 'coop', inplace = True)\n",
    "businesses.replace(housing, 'housing', inplace = True)\n",
    "businesses.replace(finance, 'finance', inplace = True)\n",
    "businesses.replace(domestic_profit, 'domestic profit')\n",
    "businesses.replace(foreign_profit, 'foreign profit', inplace = True)\n",
    "businesses.replace(professional, 'professional', inplace = True)\n",
    "businesses.replace(partnership, 'partnership', inplace = True)\n",
    "businesses.replace(other, 'other', inplace = True)\n",
    "                                \n",
    "# Check the number of items in each of the composite types.\n",
    "businesses.groupby('type').size()\n",
    "\n"
   ]
  },
  {
   "cell_type": "code",
   "execution_count": 0,
   "metadata": {
    "colab": {},
    "colab_type": "code",
    "collapsed": true,
    "id": "z5c4MBmG43Q-"
   },
   "outputs": [],
   "source": [
    "# Some groups are very small to the extent that it may be hard to learn a mapping. It is likely that the model will simply\n",
    "# predict a larger class for these small groups because the model simply tries to reduce loss. Since the loss from predicting \n",
    "# wrong on a small group is small, defaulting to predicting a larger class is easier. Nevertheless, we will see how the model\n",
    "# performs. We will reduce some of the largest groups in size, which will both balance the classes to some extent, thus partially\n",
    "# solving the imbalanced class problem. However, the main reason for doing this is to save on training time,\n",
    "# which is important given that we will use a complex concatenated LSTM model. However, we will not balance \n",
    "# the classes completely as we want enough training data to distinguish between groups.\n",
    "\n",
    "# Since we have created composite groups, before reducing group size we will want to randomly shuffle rows so that \n",
    "# we get members from each of the sub-groups. \n",
    "\n",
    "businesses = businesses.sample(frac=1).reset_index(drop=True)\n",
    "\n",
    "businesses_domestic_profit = businesses[businesses['type']=='domestic profit'].head(5000)\n",
    "businesses_llc = businesses[businesses['type']=='limited liability'].head(5000)\n",
    "businesses_non_profit = businesses[businesses['type']=='non profit'].head(5000)\n",
    "businesses_foreign_profit = businesses[businesses['type']== 'foreign profit'].head(5000)\n",
    "\n",
    "# Create a dataframe containing only the types whose group sizes weren't cut above. This will be used for concatenation below\n",
    "# to create the businesses part of the training dataframe.\n",
    "# Drop the 'other' variable. The number of training examples is too low. In any case,\n",
    "# it is not particularly important we classify these correctly for performance given the rarity of these types of business\n",
    "# (which will likely also be the case in the blight data to predict on).\n",
    "businesses2 = businesses[businesses.type.isin(['finance', 'partnership', 'professional', 'housing', 'coop',])]\n",
    "\n",
    "\n",
    "\n",
    "businesses = pd.concat([businesses_non_profit, businesses_llc, businesses_domestic_profit, businesses_foreign_profit, businesses2])"
   ]
  },
  {
   "cell_type": "code",
   "execution_count": 0,
   "metadata": {
    "colab": {},
    "colab_type": "code",
    "collapsed": true,
    "id": "OG94J3AK6Xl0"
   },
   "outputs": [],
   "source": [
    "# Group into males and females. Categorising by ethnicity was tried with some success, \n",
    "# but the drop in performance probably isn't worth it for the additional granularity. The results aren't \n",
    "# accurate enough. Deep learning gender from names is difficult enough but is especially difficult when there are surnames,\n",
    "# small non representative sample sizes and the additional need to separate names from other categories too.\n",
    "\n",
    "# First, we need to rename the columns of the names dataframes so that they are all the same for concatenation.\n",
    "\n",
    "black_female.columns = ['last_name', 'first_name', 'gender', 'race']\n",
    "hispanic_female.columns = ['last_name', 'first_name', 'gender', 'race']\n",
    "white_female.columns = ['last_name', 'first_name', 'gender', 'race']\n",
    "\n",
    "black_male.columns = ['last_name', 'first_name', 'gender', 'race']\n",
    "hispanic_male.columns = ['last_name', 'first_name', 'gender', 'race']\n",
    "white_male.columns = ['last_name', 'first_name', 'gender', 'race']\n",
    "\n",
    "males = pd.concat([white_male, black_male, hispanic_male])\n",
    "females = pd.concat([white_female, black_female, hispanic_female])\n",
    "\n",
    "# The inmates dataset contains many repeats of first names. Since first name is predictive of gender, we don't want repeats.\n",
    "# If we have repeats, then we will get an overestimate of generalisation performance because the same names will occur in\n",
    "# both the train and test sets, resulting in the model simply memorising some names. We solve that problem here by ensuring\n",
    "# only once occurence of each first name for both males and females.\n",
    "females['first_name'] = females['first_name'].str.split().str.get(0)\n",
    "a = females.groupby('first_name').first()\n",
    "females = pd.DataFrame({'last_name': a['last_name'], 'first_name': a.index, 'type': 'female'})\n",
    "\n",
    "\n",
    "males['first_name'] = males['first_name'].str.split().str.get(0)\n",
    "b = males.groupby('first_name').first()\n",
    "males = pd.DataFrame({'last_name': b['last_name'], 'first_name': b.index, 'type': 'male'})"
   ]
  },
  {
   "cell_type": "code",
   "execution_count": 0,
   "metadata": {
    "colab": {},
    "colab_type": "code",
    "collapsed": true,
    "id": "PMgrGAM16p4m"
   },
   "outputs": [],
   "source": [
    "# Resample the males dataset with a random order\n",
    "males = males.sample(frac = 1, random_state = 7).reset_index(drop = True)\n",
    "\n",
    "# Make the length of the ales dataset the same as for females. Without doing this, it was found that the class imbalance between\n",
    "# males and females causes the neural network to classify too many females as males. This is not surprising. Since males and\n",
    "# females are similar entities in terms of their text features and are therefore hard to seaparate,\n",
    "# the model may default to often picking the majority class as a consequence of trying to maximise accuracy through backpropagation.\n",
    "\n",
    "males = males.head(len(females))\n",
    "\n"
   ]
  },
  {
   "cell_type": "code",
   "execution_count": 0,
   "metadata": {
    "colab": {},
    "colab_type": "code",
    "collapsed": true,
    "id": "5zCzBMrg8Jsp"
   },
   "outputs": [],
   "source": [
    "# Since the data we wish to predict on in the column from the blight project contains both first and last names, we must have both first and last names in the training dataset, even though last names\n",
    "# are unlikely to be a useful predictor for gender.\n",
    "# It is not possible to delete last names from the data we want to predict on because there are other entities in this column that aren't people. Since there are no labels we can't selectively\n",
    "# delete certain words. Removing last names will also remove informative features from other entities. Note we want the last name to appear first, then the first name. This is how names appear in\n",
    "# the data to predict on. We also want to insert a random alphabetic letter after some names to reflect the presence of a middle name in some of the data to predict on. If we don't do this, then the model\n",
    "# might predict any person with a middle name (i.e more than 2 words) to be a non person entity. Again, we can't delete the middle name indicator from the data to predict on because there are no entity type\n",
    "# labels.\n",
    "\n",
    "\n",
    "import string\n",
    "import random\n",
    "\n",
    "\n",
    "\n",
    "males['name'] = males['last_name']+' '+males['first_name']\n",
    "males['type'] = 'male'\n",
    "# We only want the following columns, consistently labelled for concatenation with another dataframe.\n",
    "males = males[['name', 'type']]\n",
    "# Add a random alphabetic character to a fixed proportion of the names to reflect the presence of a middle name in the data to predict on. Use 50% to force the model to identify name features rather than\n",
    "# just identifying the number of words. If we only use a low percentage, say 10%, the cost of the model predicting all names with middle names to be another type would be low.\n",
    "\n",
    "\n",
    "dfupdate = males.sample(frac=.5, random_state = 2)\n",
    "indvals = dfupdate.index\n",
    "vect = dfupdate['name'].values\n",
    "vect=[val+' '+random.choice(string.ascii_lowercase) for val in vect]\n",
    "dfupdate['name'] = pd.Series(vect, indvals)\n",
    "males.update(dfupdate)\n",
    "\n",
    "# Same as above.\n",
    "females['name'] = females['last_name']+ ' ' + females['first_name']\n",
    "females['type']='female'\n",
    "females = females[['name','type']]\n",
    "\n",
    "dfupdate2 = females.sample(frac=.5, random_state = 3)\n",
    "indvals2 = dfupdate.index\n",
    "vect2 = dfupdate['name'].values\n",
    "vect2 = [val+' '+random.choice(string.ascii_lowercase) for val in vect2]\n",
    "dfupdate2['name'] = pd.Series(vect2, indvals2)\n",
    "females.update(dfupdate2)\n",
    "\n",
    "# Concatenate.\n",
    "names_and_businesses = pd.concat([businesses, males, females], ignore_index = True)\n",
    "\n",
    "\n",
    "\n",
    "\n"
   ]
  },
  {
   "cell_type": "code",
   "execution_count": 0,
   "metadata": {
    "colab": {},
    "colab_type": "code",
    "collapsed": true,
    "id": "BiS0Xq1v63tP"
   },
   "outputs": [],
   "source": [
    "# lowercase (not actually necessary as this is handled by Keras Tokenizer later)\n",
    "names_and_businesses['name'] = names_and_businesses['name'].str.lower()  \n",
    "# Shuffle dataset so that when results are visualised we can see names and business classifications together.\n",
    "names_and_businesses = names_and_businesses.sample(frac=1).reset_index(drop=True)\n",
    "# Replace multiple spaces with single spaces.\n",
    "names_and_businesses['name'] = names_and_businesses['name'].str.replace(r'\\s+', ' ')\n",
    "names_and_businesses['name'] = names_and_businesses['name'].str.strip()\n",
    "X = names_and_businesses['name']\n",
    "y = names_and_businesses['type']"
   ]
  },
  {
   "cell_type": "code",
   "execution_count": 0,
   "metadata": {
    "colab": {},
    "colab_type": "code",
    "collapsed": true,
    "id": "2bNDRlLNA473"
   },
   "outputs": [],
   "source": [
    "# Create a train test split of the data for validation\n",
    "X_train, X_test, y_train, y_test = train_test_split(X, y, random_state = 4)"
   ]
  },
  {
   "cell_type": "code",
   "execution_count": 0,
   "metadata": {
    "colab": {},
    "colab_type": "code",
    "collapsed": true,
    "id": "GTcmH0bSA647"
   },
   "outputs": [],
   "source": [
    "# Create copies of the training and test dataframes. This will be useful if we want to combine predictions (ensembling).\n",
    "# We want to train models separately but use the same train test split.\n",
    "X_train_copy = X_train.copy()\n",
    "X_test_copy = X_test.copy()"
   ]
  },
  {
   "cell_type": "markdown",
   "metadata": {},
   "source": [
    "## Simple Benchmark Model"
   ]
  },
  {
   "cell_type": "markdown",
   "metadata": {},
   "source": [
    "First, let's establish a baseline level of performance with a simple out of the box model. We use gradient boosting because it gives a good out of the box baseline performance without complex feature engineering or hyperparameter tuning. In most cases, hyperparameter tuning will not result in a large increase in performance for gradient boosting with default parameters. We don't hypertune here to save time and computation, but it is hoped that our neural network model achieves significantly higher performance than this baseline."
   ]
  },
  {
   "cell_type": "code",
   "execution_count": 66,
   "metadata": {
    "colab": {
     "base_uri": "https://localhost:8080/",
     "height": 1906
    },
    "colab_type": "code",
    "id": "DqbxOLPOA-W7",
    "outputId": "f5f4ac2c-e9a6-4459-9d42-3d93b210b741"
   },
   "outputs": [
    {
     "name": "stdout",
     "output_type": "stream",
     "text": [
      "      Iter       Train Loss   Remaining Time \n",
      "         1       33577.2539            5.13m\n",
      "         2       29032.9622            5.08m\n",
      "         3       25799.3748            5.02m\n",
      "         4       23409.7432            4.99m\n",
      "         5       21430.2014            4.95m\n",
      "         6       19842.0431            4.89m\n",
      "         7       18529.6625            4.82m\n",
      "         8       17430.7478            4.75m\n",
      "         9       16550.9011            4.69m\n",
      "        10       15752.6551            4.64m\n",
      "        11       15073.7244            4.58m\n",
      "        12       14448.2037            4.52m\n",
      "        13       13935.9395            4.47m\n",
      "        14       13491.0576            4.41m\n",
      "        15       13076.5937            4.35m\n",
      "        16       12694.0871            4.31m\n",
      "        17       12358.0386            4.26m\n",
      "        18       12058.0674            4.21m\n",
      "        19       11798.1901            4.16m\n",
      "        20       11539.9300            4.12m\n",
      "        21       11327.2304            4.06m\n",
      "        22       11127.2724            4.01m\n",
      "        23       10945.5149            3.95m\n",
      "        24       10775.2189            3.90m\n",
      "        25       10590.0026            3.84m\n",
      "        26       10435.4927            3.79m\n",
      "        27       10253.5212            3.74m\n",
      "        28       10128.7766            3.68m\n",
      "        29       10012.9894            3.63m\n",
      "        30        9887.7598            3.56m\n",
      "        31        9780.7069            3.52m\n",
      "        32        9681.1879            3.46m\n",
      "        33        9593.3961            3.40m\n",
      "        34        9508.7250            3.34m\n",
      "        35        9424.7918            3.30m\n",
      "        36        9285.6190            3.24m\n",
      "        37        9202.0141            3.19m\n",
      "        38        9128.3432            3.14m\n",
      "        39        9043.0966            3.09m\n",
      "        40        8979.8146            3.03m\n",
      "        41        8893.6354            2.98m\n",
      "        42        8829.4093            2.93m\n",
      "        43        8746.6120            2.88m\n",
      "        44        8649.6551            2.83m\n",
      "        45        8574.1324            2.77m\n",
      "        46        8489.6982            2.72m\n",
      "        47        8414.3214            2.66m\n",
      "        48        8341.6266            2.61m\n",
      "        49        8261.8844            2.55m\n",
      "        50        8181.3825            2.50m\n",
      "        51        8085.1360            2.44m\n",
      "        52        8000.8163            2.39m\n",
      "        53        7933.5853            2.34m\n",
      "        54        7837.3015            2.29m\n",
      "        55        7772.4999            2.23m\n",
      "        56        7677.1932            2.18m\n",
      "        57        7604.2663            2.13m\n",
      "        58        7548.0289            2.08m\n",
      "        59        7455.5903            2.03m\n",
      "        60        7404.3070            1.98m\n",
      "        61        7351.0331            1.93m\n",
      "        62        7284.2578            1.88m\n",
      "        63        7232.7922            1.82m\n",
      "        64        7195.1695            1.77m\n",
      "        65        7155.8276            1.72m\n",
      "        66        7105.6845            1.68m\n",
      "        67        7058.4728            1.63m\n",
      "        68        7017.5734            1.58m\n",
      "        69        6968.0342            1.53m\n",
      "        70        6923.5027            1.48m\n",
      "        71        6892.8410            1.43m\n",
      "        72        6848.5193            1.38m\n",
      "        73        6797.1745            1.33m\n",
      "        74        6747.7470            1.28m\n",
      "        75        6709.5247            1.23m\n",
      "        76        6669.3359            1.18m\n",
      "        77        6644.2488            1.13m\n",
      "        78        6612.4543            1.08m\n",
      "        79        6588.9308            1.03m\n",
      "        80        6548.9739           58.74s\n",
      "        81        6523.3460           55.77s\n",
      "        82        6498.6193           52.81s\n",
      "        83        6457.3399           49.82s\n",
      "        84        6426.5112           46.87s\n",
      "        85        6396.7613           43.90s\n",
      "        86        6370.2841           40.97s\n",
      "        87        6344.2909           38.03s\n",
      "        88        6321.4570           35.09s\n",
      "        89        6300.6006           32.14s\n",
      "        90        6277.5649           29.21s\n",
      "        91        6246.1187           26.29s\n",
      "        92        6220.9201           23.37s\n",
      "        93        6199.6683           20.44s\n",
      "        94        6173.6028           17.50s\n",
      "        95        6144.3911           14.57s\n",
      "        96        6122.5439           11.66s\n",
      "        97        6105.3301            8.74s\n",
      "        98        6088.1086            5.83s\n",
      "        99        6070.2437            2.91s\n",
      "       100        6047.9021            0.00s\n"
     ]
    },
    {
     "data": {
      "text/plain": [
       "GradientBoostingClassifier(criterion='friedman_mse', init=None,\n",
       "              learning_rate=0.1, loss='deviance', max_depth=3,\n",
       "              max_features=None, max_leaf_nodes=None,\n",
       "              min_impurity_decrease=0.0, min_impurity_split=None,\n",
       "              min_samples_leaf=1, min_samples_split=2,\n",
       "              min_weight_fraction_leaf=0.0, n_estimators=100,\n",
       "              presort='auto', random_state=5, subsample=1.0, verbose=2,\n",
       "              warm_start=False)"
      ]
     },
     "execution_count": 66,
     "metadata": {
      "tags": []
     },
     "output_type": "execute_result"
    }
   ],
   "source": [
    "# Here, we generate simple features.\n",
    "# Features are of the form first-nletters or last-n letters. We can vary n using the function definition. A dict comprehension\n",
    "# is used within the function so we can vary the number of features easily. Since the average length of the string input is 21,\n",
    "# we go up to the first and last 15 letters such that there are 30 features in total. This captures most of each string from\n",
    "# both directions and is probably more than necessary. It also increases training time but since training doesn't take long for gradient\n",
    "# boosting we will use this number to start with.\n",
    "\n",
    "\n",
    "def features(name, n=15):\n",
    "    '''Function to generate features from a string.\n",
    "    \n",
    "    (str, int)->dict\n",
    "    \n",
    "    >>> features('Josie Wales', 3)\n",
    "    {'first-letter': 'J', 'first2-letters': 'Jo', 'first3-letters': 'Jos', 'last-letter': 's', 'last2-letters': 'es', \n",
    "    'last3-letters': 'les'}\n",
    "    '''\n",
    "  # lower case the name\n",
    "  name = name.lower()\n",
    "  # Create a list of keys that are the names of the first n features.\n",
    "  first_letter = ['first-letter']\n",
    "  first_n_letters = ['first{}-letters'.format(i) for i in range(2,n+1)]\n",
    "  first_n_letters = first_letter + first_n_letters\n",
    "  # Create a list of keys for the last n features\n",
    "  last_letter = ['last-letter']\n",
    "  last_n_letters = ['last{}-letters'.format(i) for i in range(2,n+1)]\n",
    "  last_n_letters = last_letter+last_n_letters\n",
    "  # Concatenate lists to create all keys\n",
    "  keys = first_n_letters + last_n_letters\n",
    "  # Create lists of values for the first and last n features, then concatenate to create all values.\n",
    "  first_letter_value = [name[0]]\n",
    "  val1 = [name[0:i] for i in range(2,n+1)]\n",
    "  val2 = [name[-i:] for i in range(1,n+1)]\n",
    "  # Concatenate\n",
    "  values = first_letter_value + val1 + val2\n",
    "  # zip values for performing a dict comprehension\n",
    "  zipvals = zip(keys, values)\n",
    "  d = {k: v for k,v in zipvals}\n",
    "  return d\n",
    "\n",
    "# Vectorise the features function to make it usable with arrays of data  \n",
    "features = np.vectorize(features)\n",
    "# Get features associated with names in train and test arrays\n",
    "X_train_copy = features(X_train_copy)\n",
    "X_test_copy = features(X_test_copy)\n",
    "\n",
    "from sklearn.model_selection import train_test_split\n",
    "from sklearn.feature_extraction import DictVectorizer\n",
    "\n",
    "# Create train and test arrays compatible with the gradient boosting classifier by vectorizing the features.\n",
    "vectorizer = DictVectorizer()\n",
    "vectorizer.fit(X_train_copy)\n",
    "X_train_gb = vectorizer.transform(X_train_copy)\n",
    "X_test_gb = vectorizer.transform(X_test_copy)\n",
    "\n",
    "from sklearn.ensemble import GradientBoostingClassifier\n",
    "\n",
    "# Fit the gradient boosting classifier.\n",
    "clf = GradientBoostingClassifier(verbose = 2)\n",
    "clf.fit(X_train_gb, y_train, random_state = 5)\n"
   ]
  },
  {
   "cell_type": "code",
   "execution_count": 67,
   "metadata": {
    "colab": {
     "base_uri": "https://localhost:8080/",
     "height": 779
    },
    "colab_type": "code",
    "id": "mhY65Jb7C9Cj",
    "outputId": "8be5d198-f8b2-4407-d7c3-8c0dc732767d"
   },
   "outputs": [
    {
     "name": "stdout",
     "output_type": "stream",
     "text": [
      "Normalized confusion matrix\n",
      "[[3.94e-01 0.00e+00 0.00e+00 9.09e-02 3.18e-01 0.00e+00 0.00e+00 1.97e-01\n",
      "  0.00e+00 0.00e+00]\n",
      " [0.00e+00 8.46e-01 0.00e+00 0.00e+00 0.00e+00 0.00e+00 1.27e-01 2.67e-02\n",
      "  0.00e+00 0.00e+00]\n",
      " [8.13e-03 0.00e+00 8.46e-01 8.94e-02 8.13e-03 0.00e+00 0.00e+00 4.88e-02\n",
      "  0.00e+00 0.00e+00]\n",
      " [8.09e-04 2.43e-03 8.09e-04 9.47e-01 8.09e-04 0.00e+00 5.66e-03 3.64e-02\n",
      "  0.00e+00 5.66e-03]\n",
      " [1.97e-02 9.84e-03 3.28e-03 4.26e-02 8.92e-01 0.00e+00 6.56e-03 2.62e-02\n",
      "  0.00e+00 0.00e+00]\n",
      " [0.00e+00 0.00e+00 0.00e+00 8.06e-04 0.00e+00 9.95e-01 1.61e-03 1.61e-03\n",
      "  8.06e-04 0.00e+00]\n",
      " [0.00e+00 1.46e-01 0.00e+00 0.00e+00 0.00e+00 0.00e+00 8.25e-01 2.86e-02\n",
      "  0.00e+00 0.00e+00]\n",
      " [7.96e-04 2.86e-02 3.18e-03 1.93e-01 5.57e-03 7.96e-04 5.81e-02 7.09e-01\n",
      "  7.96e-04 0.00e+00]\n",
      " [0.00e+00 4.08e-02 0.00e+00 0.00e+00 0.00e+00 1.02e-01 6.12e-02 1.22e-01\n",
      "  6.73e-01 0.00e+00]\n",
      " [0.00e+00 0.00e+00 0.00e+00 4.86e-03 0.00e+00 1.22e-02 3.65e-03 9.72e-03\n",
      "  0.00e+00 9.70e-01]]\n"
     ]
    },
    {
     "data": {
      "image/png": "[encoded data removed]",
      "text/plain": [
       "<matplotlib.figure.Figure at 0x7fe5c4a9e7b8>"
      ]
     },
     "metadata": {
      "tags": []
     },
     "output_type": "display_data"
    }
   ],
   "source": [
    "import itertools\n",
    "import matplotlib.pyplot as plt\n",
    "from sklearn.metrics import confusion_matrix\n",
    "\n",
    "# Plot a normalised confusion matrix to give a visual idea of performance. Since we have no idea of the distribution of the\n",
    "# categories in the column we wish to predict on, we don't know which values are more important to classify well and where \n",
    "# misclassification is more costly. While we could make guesses about this, as a first approximation it is easier to\n",
    "# use average accuracy across all categories with each category weighted equally as the preferred performance metric.\n",
    "# That is, the average of the values in the leading diagonal of the matrix.\n",
    "\n",
    "def plot_confusion_matrix(cm, classes,\n",
    "                          normalize=False,\n",
    "                          title='Confusion matrix',\n",
    "                          cmap=plt.cm.Blues):\n",
    "    \"\"\"\n",
    "    This function prints and plots the confusion matrix.\n",
    "    Normalization can be applied by setting `normalize=True`.\n",
    "    \"\"\"\n",
    "    if normalize:\n",
    "        cm = cm.astype('float') / cm.sum(axis=1)[:, np.newaxis]\n",
    "        print(\"Normalized confusion matrix\")\n",
    "    else:\n",
    "        print('Confusion matrix, without normalization')\n",
    "\n",
    "    print(cm)\n",
    "\n",
    "    plt.imshow(cm, interpolation='nearest', cmap=cmap)\n",
    "    plt.title(title)\n",
    "    plt.colorbar()\n",
    "    tick_marks = np.arange(len(classes))\n",
    "    plt.xticks(tick_marks, classes, rotation=45)\n",
    "    plt.yticks(tick_marks, classes)\n",
    "\n",
    "    fmt = '.2f' if normalize else 'd'\n",
    "    thresh = cm.max() / 2.\n",
    "    for i, j in itertools.product(range(cm.shape[0]), range(cm.shape[1])):\n",
    "        plt.text(j, i, format(cm[i, j], fmt),\n",
    "                 horizontalalignment=\"center\",\n",
    "                 color=\"white\" if cm[i, j] > thresh else \"black\")\n",
    "\n",
    "    plt.tight_layout()\n",
    "    plt.ylabel('True label')\n",
    "    plt.xlabel('Predicted label')\n",
    "    \n",
    "# Get class names\n",
    "class_names = list(set(y.values))\n",
    "    \n",
    "# Compute confusion matrix\n",
    "cnf_matrix = confusion_matrix(y_test, clf.predict(X_test_gb))\n",
    "np.set_printoptions(precision=2)\n",
    "\n",
    "# Plot normalized confusion matrix\n",
    "plt.figure()\n",
    "plot_confusion_matrix(cnf_matrix, classes=class_names, normalize=True,\n",
    "                      title='Normalized confusion matrix')\n",
    "\n",
    "plt.show()"
   ]
  },
  {
   "cell_type": "code",
   "execution_count": 68,
   "metadata": {
    "colab": {
     "base_uri": "https://localhost:8080/",
     "height": 34
    },
    "colab_type": "code",
    "id": "9kf05Gl5Txqt",
    "outputId": "45256946-9636-4f6f-f256-2779114500df"
   },
   "outputs": [
    {
     "data": {
      "text/plain": [
       "0.8097296608793592"
      ]
     },
     "execution_count": 68,
     "metadata": {
      "tags": []
     },
     "output_type": "execute_result"
    }
   ],
   "source": [
    "# Average accuracy with equal weight for each class (given that we don't know the distribution of classes in the blight violator\n",
    "# names data to predict on, there is no obvious resason to give more importance to any particular class, so this is as good a measure\n",
    "# as amy for a first approximation)\n",
    "np.trace(cnf_matrix.astype('float') /cnf_matrix.sum(axis=1)[:, np.newaxis])/len(cnf_matrix)"
   ]
  },
  {
   "cell_type": "markdown",
   "metadata": {},
   "source": [
    "The default parameters gradient boosting model does fairly well, with particularly strong performance categorising gender from names. However, it is much weaker in other areas. For example, the classifier is poor at identifying finance companies at only 39%."
   ]
  },
  {
   "cell_type": "code",
   "execution_count": 0,
   "metadata": {
    "colab": {},
    "colab_type": "code",
    "collapsed": true,
    "id": "StjaLrieD5EY"
   },
   "outputs": [],
   "source": [
    "# Convert y train and y_test labels to one hot encoding for Keras compatibility when training.\n",
    "onehot_ytrain = pd.get_dummies(y_train)\n",
    "target_labels_train = onehot_ytrain.columns\n",
    "y_train = onehot_ytrain.as_matrix()\n",
    "\n",
    "onehot_ytest = pd.get_dummies(y_test)\n",
    "target_labels_test = onehot_ytest.columns\n",
    "y_test = onehot_ytest.as_matrix()"
   ]
  },
  {
   "cell_type": "code",
   "execution_count": 0,
   "metadata": {
    "colab": {},
    "colab_type": "code",
    "collapsed": true,
    "id": "S8-irfHBEBr0"
   },
   "outputs": [],
   "source": [
    "# We need to convert the text to character level unigram, bigram and trigram sequences. The function below can do this by setting the parameter n.\n",
    "def word2ngrams(text, n=3, exact=True):\n",
    "    \"\"\" Convert text into character ngrams. \n",
    "    >>> word2ngrams('hello', n = 2)\n",
    "    [he, el, ll, lo]\"\"\"\n",
    "    return [\"\".join(j) for j in zip(*[text[i:] for i in range(n)])]\n",
    "\n",
    "# Create character level unigram, bigram and trigram sequences of the names and business names\n",
    "trigrams = X_train.apply(lambda x: word2ngrams(str(x)))\n",
    "bigrams = X_train.apply(lambda x: word2ngrams(str(x), n = 2))\n",
    "unigrams = X_train.apply(lambda x: word2ngrams(str(x), n = 1))\n",
    "\n",
    "trigramstest = X_test.apply(lambda x: word2ngrams(str(x)))\n",
    "bigramstest = X_test.apply(lambda x: word2ngrams(str(x), n = 2))\n",
    "unigramstest = X_test.apply(lambda x: word2ngrams(str(x), n = 1))\n",
    "\n",
    "# Convert lists to array format for efficiency.\n",
    "trigrams = trigrams.apply(array)\n",
    "bigrams = bigrams.apply(array)\n",
    "unigrams = unigrams.apply(array)\n",
    "\n",
    "trigramstest = trigramstest.apply(array)\n",
    "bigramstest = bigramstest.apply(array)\n",
    "unigramstest = unigramstest.apply(array)\n",
    "\n",
    "# Create a function that adds a separator | to the character level n grams, this will allow us to split on these characters using the keras Tokenizer below.\n",
    "# That is, it will allow the ngrams to be recognised as tokens. | is used because it does not appear in the names and so will always identify an ngram. If something else,\n",
    "# that commonly appears in the names was used to split, such as a space, then the wrong ngrams would be identified.\n",
    "def array_to_string(a):\n",
    "    s=''\n",
    "    for i in range(len(a)):\n",
    "        if i < len(a) - 1:\n",
    "            s = s +a[i] + '|'\n",
    "        else:\n",
    "            s = s + a[i]\n",
    "    return s\n",
    "\n",
    "bigrams = bigrams.apply(array_to_string)\n",
    "trigrams = trigrams.apply(array_to_string)\n",
    "unigrams = unigrams.apply(array_to_string)\n",
    "\n",
    "bigramstest = bigramstest.apply(array_to_string)\n",
    "trigramstest = trigramstest.apply(array_to_string)\n",
    "unigramstest = unigramstest.apply(array_to_string)\n",
    "\n",
    "# Note tokenizer filters out some information we want by default. Here we go with the default where virtually all punctuation\n",
    "# is removed. This can be changed later as punctuation may be informative for business type.\n",
    "\n",
    "# The num_words argument of the Keras tokenizer specifies the maximum number of words to keep based on word frequency.\n",
    "# The n most frequent tokens are kept.\n",
    "# Here we have set it at the maximum number of possible tokens based on the possible combinations of the alphabet plus\n",
    "# numeric characters, spaces and ' characters, which are retained by\n",
    "# the Keras tokenizer under default parameters.\n",
    "\n",
    "\n",
    "# 38 = alphabet + alphanumeric + space + ''\n",
    "unigram_vocab_size = 39\n",
    "t1 = Tokenizer(num_words = unigram_vocab_size, split = '|')\n",
    "t1.fit_on_texts(list(unigrams))\n",
    "unigram_sequences = t1.texts_to_sequences(list(unigrams))\n",
    "unigram_sequences_test = t1.texts_to_sequences(list(unigramstest))\n",
    "\n",
    "# 39**2 = 1521\n",
    "bigram_vocab_size = 1521\n",
    "t2 = Tokenizer(num_words = bigram_vocab_size, split = '|')\n",
    "t2.fit_on_texts(list(bigrams))\n",
    "bigram_sequences = t2.texts_to_sequences(list(bigrams))\n",
    "bigram_sequences_test = t2.texts_to_sequences(list(bigramstest))\n",
    "\n",
    "#59319**3\n",
    "trigram_vocab_size = 54872\n",
    "# Most trigrams will not be relevant and won't. Only take the 20000 most frequent to save training time. This is arbitrary but shouldn't matter.\n",
    "trigram_vocab_size = 20000\n",
    "t3 = Tokenizer(num_words = trigram_vocab_size, split = '|')\n",
    "t3.fit_on_texts(list(trigrams))\n",
    "trigram_sequences = t3.texts_to_sequences(list(trigrams))\n",
    "trigram_sequences_test = t3.texts_to_sequences(list(trigramstest))\n",
    "\n",
    "# calculate the maximum input length\n",
    "maxlen = names_and_businesses['name'].str.len().max()\n",
    "\n",
    "# pad documents to a maximum length.\n",
    "max_length_unigram = maxlen\n",
    "X_train_unigram = pad_sequences(unigram_sequences, maxlen = max_length_unigram, padding = 'post')\n",
    "X_test_unigram = pad_sequences(unigram_sequences_test, maxlen = max_length_unigram, padding = 'post')\n",
    "# 125//2 + 1\n",
    "max_length_bigram = (maxlen//2) + 1\n",
    "X_train_bigram = pad_sequences(bigram_sequences, maxlen = max_length_bigram, padding = 'post')\n",
    "X_test_bigram = pad_sequences(bigram_sequences_test, maxlen = max_length_bigram, padding = 'post')\n",
    "# 125//3 + 1\n",
    "max_length_trigram = (maxlen//3)+1\n",
    "X_train_trigram = pad_sequences(trigram_sequences, maxlen = max_length_trigram, padding = 'post')\n",
    "X_test_trigram = pad_sequences(trigram_sequences_test, maxlen = max_length_trigram, padding = 'post')\n",
    "\n",
    "\n",
    "\n"
   ]
  },
  {
   "cell_type": "code",
   "execution_count": 71,
   "metadata": {
    "colab": {
     "base_uri": "https://localhost:8080/",
     "height": 34
    },
    "colab_type": "code",
    "id": "oP5jNHbsXn4u",
    "outputId": "34799234-9118-4386-bc4a-7708315e9b51"
   },
   "outputs": [
    {
     "data": {
      "text/plain": [
       "5"
      ]
     },
     "execution_count": 71,
     "metadata": {
      "tags": []
     },
     "output_type": "execute_result"
    }
   ],
   "source": [
    "# Keras requires the training data to be divisible by the batch size, so we will delete the remainder from the training data\n",
    "# to ensure this.\n",
    "len(X_train_trigram)%32"
   ]
  },
  {
   "cell_type": "code",
   "execution_count": 0,
   "metadata": {
    "colab": {},
    "colab_type": "code",
    "collapsed": true,
    "id": "Ec2ph_PjEIXP"
   },
   "outputs": [],
   "source": [
    "# Batch size is multiple of 32 in the model below. length of training inputs must be divisible by the batch size in keras. Hence we change the length of the inputs. See cell above.\n",
    "X_train_unigram = X_train_unigram[:-5]\n",
    "X_train_bigram = X_train_bigram[:-5]\n",
    "X_train_trigram = X_train_trigram[:-5]\n",
    "y_train = y_train[:-5]"
   ]
  },
  {
   "cell_type": "code",
   "execution_count": 0,
   "metadata": {
    "colab": {},
    "colab_type": "code",
    "collapsed": true,
    "id": "XUO9gkElEMyK"
   },
   "outputs": [],
   "source": [
    "# The model below is inspired by a 2017 paper used to determine nationalities from names. I adapted it to my categorisation task using Keras using broadly the same framework with minor differences.\n",
    "# Hyperparameter tuning was not carried out because of a lack of computing resource. Instead, roughly similar paramters to those in the paper are used with good results.\n",
    "\n",
    "# The paper in question is https://www.ijcai.org/proceedings/2017/0289.pdf\n",
    "\n",
    "def create_model():\n",
    "    unigram_input = Input(shape =  (max_length_unigram,))\n",
    "    # Word embeddings are used to translate large vocabularies into smaller dimensional spaces. For a vocab size of 39 (the number of possible character unigrams here)\n",
    "    # we are only likely to need a very small embedding to represent the vocabulary, say 4. Having a bigger embedding than necessary will raise training time without value.\n",
    "    \n",
    "    # A size 32 word embedding is not necessary to represent such a small number of characters. Save on training time by setting to 4.\n",
    "    unigram_embedding = Embedding(unigram_vocab_size, 4, input_length = max_length_unigram)(unigram_input)\n",
    "    # We only want dropout on non recurrent part. This is good because recurrent dropout is not supported with fast implementation\n",
    "    # CuDNN. Intuitively, the model randomly certain words (as represented by their embeddings) from each sequence of character grams at each training stage to avoid relying too much on \n",
    "    # ngrams for prediction. Hence it is a form of regularisation.\n",
    "    unigram_dropout = Dropout(0.5, noise_shape = (32, max_length_unigram, 1))(unigram_embedding)\n",
    "    # LSTM has a single layer. LSTM cell size is 200.\n",
    "    unigram_LSTM = CuDNNLSTM(200)(unigram_dropout)\n",
    "    \n",
    "    bigram_input = Input(shape =  (max_length_bigram,))\n",
    "    # Use more complex embedding (64 dims) to reflect larger vocab\n",
    "    bigram_embedding = Embedding(bigram_vocab_size, 64, input_length = max_length_bigram)(bigram_input)\n",
    "    bigram_dropout = Dropout(0.5, noise_shape = (32, max_length_bigram, 1))(bigram_embedding)\n",
    "    bigram_LSTM = CuDNNLSTM(200)(bigram_dropout)\n",
    "    \n",
    "    trigram_input = Input(shape =  (max_length_trigram,))\n",
    "    # Use more complex embedding (128 dims) to reflect larger number of tokens.\n",
    "    trigram_embedding = Embedding(trigram_vocab_size, 128, input_length = max_length_trigram)(trigram_input)\n",
    "    trigram_dropout = Dropout(0.5, noise_shape = (32, max_length_trigram, 1))(trigram_embedding)\n",
    "    trigram_LSTM = CuDNNLSTM(200)(trigram_dropout)\n",
    "    \n",
    "    # Model passes sequences of unigram, bigram and trigram inputs to 3 separate LSTMs, each with 200 hidden units and only a single layer (as in the source paper).\n",
    "    # The outputs are concatenated and passed to a fully connected layer.\n",
    "    joined_input = Concatenate()([unigram_LSTM, bigram_LSTM, trigram_LSTM])\n",
    "  \n",
    "    out = Dense(10)(joined_input)\n",
    "    out = Activation('softmax')(out)\n",
    "    \n",
    "    model = Model([unigram_input, bigram_input, trigram_input], out)\n",
    "    \n",
    "    model.compile(loss = 'categorical_crossentropy', optimizer = 'adam', metrics = ['accuracy'])\n",
    "    \n",
    "    # Use early stopping to save training time when convergence is finished.\n",
    "    earlystop = EarlyStopping(monitor = 'val_acc', min_delta = 0.001, patience = 10, \\\n",
    "                          verbose = 1, mode = 'auto')\n",
    "    \n",
    "    \n",
    "    callbacks_list = [earlystop]\n",
    "    \n",
    "    model.fit([X_train_unigram, X_train_bigram, X_train_trigram], y_train, epochs = 50,\n",
    "              validation_data = ([X_test_unigram, X_test_bigram, X_test_trigram], y_test), verbose = 2, callbacks =\n",
    "              callbacks_list)\n",
    "    \n",
    "    return model"
   ]
  },
  {
   "cell_type": "code",
   "execution_count": 75,
   "metadata": {
    "colab": {
     "base_uri": "https://localhost:8080/",
     "height": 1091
    },
    "colab_type": "code",
    "id": "wk7LvfZrEQWg",
    "outputId": "8eb3ad3a-c713-4d35-9710-ce20e7631642"
   },
   "outputs": [
    {
     "name": "stdout",
     "output_type": "stream",
     "text": [
      "Train on 18976 samples, validate on 6327 samples\n",
      "Epoch 1/50\n",
      " - 36s - loss: 0.9577 - acc: 0.6458 - val_loss: 0.4898 - val_acc: 0.8035\n",
      "Epoch 2/50\n",
      " - 35s - loss: 0.5684 - acc: 0.7817 - val_loss: 0.3739 - val_acc: 0.8378\n",
      "Epoch 3/50\n",
      " - 35s - loss: 0.4701 - acc: 0.8113 - val_loss: 0.3311 - val_acc: 0.8668\n",
      "Epoch 4/50\n",
      " - 35s - loss: 0.4213 - acc: 0.8263 - val_loss: 0.3151 - val_acc: 0.8517\n",
      "Epoch 5/50\n",
      " - 35s - loss: 0.3886 - acc: 0.8485 - val_loss: 0.2939 - val_acc: 0.8849\n",
      "Epoch 6/50\n",
      " - 35s - loss: 0.3531 - acc: 0.8706 - val_loss: 0.2848 - val_acc: 0.8864\n",
      "Epoch 7/50\n",
      " - 34s - loss: 0.3227 - acc: 0.8860 - val_loss: 0.2700 - val_acc: 0.8933\n",
      "Epoch 8/50\n",
      " - 35s - loss: 0.3104 - acc: 0.8907 - val_loss: 0.2763 - val_acc: 0.9001\n",
      "Epoch 9/50\n",
      " - 35s - loss: 0.2794 - acc: 0.9028 - val_loss: 0.2538 - val_acc: 0.9044\n",
      "Epoch 10/50\n",
      " - 35s - loss: 0.2649 - acc: 0.9095 - val_loss: 0.2386 - val_acc: 0.9167\n",
      "Epoch 11/50\n",
      " - 35s - loss: 0.2533 - acc: 0.9130 - val_loss: 0.2408 - val_acc: 0.9154\n",
      "Epoch 12/50\n",
      " - 35s - loss: 0.2395 - acc: 0.9157 - val_loss: 0.2277 - val_acc: 0.9199\n",
      "Epoch 13/50\n",
      " - 35s - loss: 0.2299 - acc: 0.9200 - val_loss: 0.2469 - val_acc: 0.9181\n",
      "Epoch 14/50\n",
      " - 35s - loss: 0.2194 - acc: 0.9222 - val_loss: 0.2364 - val_acc: 0.9196\n",
      "Epoch 15/50\n",
      " - 35s - loss: 0.2135 - acc: 0.9237 - val_loss: 0.2328 - val_acc: 0.9188\n",
      "Epoch 16/50\n",
      " - 34s - loss: 0.2043 - acc: 0.9293 - val_loss: 0.2359 - val_acc: 0.9196\n",
      "Epoch 17/50\n",
      " - 35s - loss: 0.1815 - acc: 0.9385 - val_loss: 0.2287 - val_acc: 0.9205\n",
      "Epoch 18/50\n",
      " - 35s - loss: 0.1769 - acc: 0.9396 - val_loss: 0.2471 - val_acc: 0.9177\n",
      "Epoch 19/50\n",
      " - 35s - loss: 0.1847 - acc: 0.9357 - val_loss: 0.2573 - val_acc: 0.9154\n",
      "Epoch 20/50\n",
      " - 35s - loss: 0.1677 - acc: 0.9423 - val_loss: 0.2381 - val_acc: 0.9230\n",
      "Epoch 21/50\n",
      " - 35s - loss: 0.1629 - acc: 0.9452 - val_loss: 0.2376 - val_acc: 0.9200\n",
      "Epoch 22/50\n",
      " - 35s - loss: 0.1578 - acc: 0.9457 - val_loss: 0.2356 - val_acc: 0.9226\n",
      "Epoch 23/50\n",
      " - 35s - loss: 0.1495 - acc: 0.9475 - val_loss: 0.2481 - val_acc: 0.9203\n",
      "Epoch 24/50\n",
      " - 35s - loss: 0.1443 - acc: 0.9490 - val_loss: 0.2663 - val_acc: 0.9150\n",
      "Epoch 25/50\n",
      " - 34s - loss: 0.1412 - acc: 0.9495 - val_loss: 0.2509 - val_acc: 0.9203\n",
      "Epoch 26/50\n",
      " - 35s - loss: 0.1369 - acc: 0.9522 - val_loss: 0.2540 - val_acc: 0.9186\n",
      "Epoch 27/50\n",
      " - 35s - loss: 0.1265 - acc: 0.9550 - val_loss: 0.2602 - val_acc: 0.9197\n",
      "Epoch 28/50\n",
      " - 35s - loss: 0.1229 - acc: 0.9566 - val_loss: 0.2722 - val_acc: 0.9169\n",
      "Epoch 29/50\n",
      " - 35s - loss: 0.1281 - acc: 0.9556 - val_loss: 0.2768 - val_acc: 0.9200\n",
      "Epoch 30/50\n",
      " - 35s - loss: 0.1197 - acc: 0.9578 - val_loss: 0.2803 - val_acc: 0.9170\n",
      "Epoch 00030: early stopping\n"
     ]
    }
   ],
   "source": [
    "model = create_model()"
   ]
  },
  {
   "cell_type": "code",
   "execution_count": 76,
   "metadata": {
    "colab": {
     "base_uri": "https://localhost:8080/",
     "height": 796
    },
    "colab_type": "code",
    "id": "w_stIQ1dEUCs",
    "outputId": "7149070a-6460-45a7-b170-35c1cd10fa8f"
   },
   "outputs": [
    {
     "name": "stdout",
     "output_type": "stream",
     "text": [
      "6327/6327 [==============================] - 3s 535us/step\n",
      "Normalized confusion matrix\n",
      "[[8.03e-01 0.00e+00 0.00e+00 3.03e-02 1.36e-01 0.00e+00 0.00e+00 3.03e-02\n",
      "  0.00e+00 0.00e+00]\n",
      " [0.00e+00 8.06e-01 0.00e+00 0.00e+00 0.00e+00 0.00e+00 1.89e-01 5.01e-03\n",
      "  0.00e+00 0.00e+00]\n",
      " [0.00e+00 0.00e+00 9.59e-01 2.44e-02 8.13e-03 0.00e+00 8.13e-03 0.00e+00\n",
      "  0.00e+00 0.00e+00]\n",
      " [0.00e+00 0.00e+00 2.43e-03 9.55e-01 0.00e+00 8.09e-04 8.09e-04 3.80e-02\n",
      "  0.00e+00 3.24e-03]\n",
      " [2.95e-02 0.00e+00 3.28e-03 3.28e-03 9.44e-01 0.00e+00 3.28e-03 1.64e-02\n",
      "  0.00e+00 0.00e+00]\n",
      " [0.00e+00 0.00e+00 0.00e+00 0.00e+00 0.00e+00 9.96e-01 0.00e+00 8.06e-04\n",
      "  2.42e-03 8.06e-04]\n",
      " [0.00e+00 2.27e-01 0.00e+00 1.59e-03 0.00e+00 1.59e-03 7.60e-01 9.54e-03\n",
      "  0.00e+00 0.00e+00]\n",
      " [0.00e+00 9.55e-03 5.57e-03 7.88e-02 2.39e-03 7.96e-04 6.36e-03 8.95e-01\n",
      "  7.96e-04 7.96e-04]\n",
      " [0.00e+00 4.08e-02 0.00e+00 0.00e+00 0.00e+00 8.16e-02 6.12e-02 8.16e-02\n",
      "  7.35e-01 0.00e+00]\n",
      " [0.00e+00 0.00e+00 0.00e+00 3.65e-03 0.00e+00 1.22e-02 0.00e+00 4.86e-03\n",
      "  0.00e+00 9.79e-01]]\n"
     ]
    },
    {
     "data": {
      "image/png": "[encoded data removed]",
      "text/plain": [
       "<matplotlib.figure.Figure at 0x7fe5ca39af98>"
      ]
     },
     "metadata": {
      "tags": []
     },
     "output_type": "display_data"
    }
   ],
   "source": [
    "# Get predicted values from model.\n",
    "one_hot_predictions = model.predict([X_test_unigram, X_test_bigram, X_test_trigram], verbose = 1)\n",
    "# Convert to label encoding for sklearn\n",
    "label_encoding_predictions = np.argmax(one_hot_predictions, axis = 1)\n",
    "label_encoding_test = np.argmax(y_test, axis = 1)\n",
    "\n",
    "# Get class names\n",
    "class_names = onehot_ytrain.columns\n",
    "    \n",
    "    \n",
    "    \n",
    "# Compute confusion matrix\n",
    "cnf_matrix = confusion_matrix(label_encoding_test, label_encoding_predictions)\n",
    "np.set_printoptions(precision=2)\n",
    "\n",
    "# Plot normalized confusion matrix\n",
    "plt.figure()\n",
    "plot_confusion_matrix(cnf_matrix, classes=class_names, normalize=True,\n",
    "                      title='Normalized confusion matrix')\n",
    "\n",
    "plt.show()"
   ]
  },
  {
   "cell_type": "code",
   "execution_count": 77,
   "metadata": {
    "colab": {
     "base_uri": "https://localhost:8080/",
     "height": 34
    },
    "colab_type": "code",
    "id": "ItGhVCQ_RvoT",
    "outputId": "555b667f-1cb7-457b-8ea5-22883d585379"
   },
   "outputs": [
    {
     "data": {
      "text/plain": [
       "0.8832608611973386"
      ]
     },
     "execution_count": 77,
     "metadata": {
      "tags": []
     },
     "output_type": "execute_result"
    }
   ],
   "source": [
    "np.trace(cnf_matrix.astype('float') /cnf_matrix.sum(axis=1)[:, np.newaxis])/len(cnf_matrix)\n"
   ]
  },
  {
   "cell_type": "markdown",
   "metadata": {
    "colab": {},
    "colab_type": "code",
    "collapsed": true,
    "id": "wOij8Ny-gaZF"
   },
   "source": [
    "The model achieves 88% average accuracy without poor performance in any category. This is very encouraging, particularly given that the dataset was reduced to save training time, hyperparameter tuning was not performed and some categories were extremely small e.g. partnerships. This performance on data sets for which there are few samples suggests these classes are relatively easy to identify, which would likely be confirmed in a graphical analysis (e.g. PCA). The model performs far better than the baseline comparison model (gradient boosting). "
   ]
  },
  {
   "cell_type": "markdown",
   "metadata": {},
   "source": [
    "## Predictions on Blight Data"
   ]
  },
  {
   "cell_type": "markdown",
   "metadata": {},
   "source": [
    "Although the unseen test set performance is strong, it is important to note that our training data was not representative. Due to a lack of labels on the data we want to predict, it was not possible to format the training data to match the blight data exactly. Although the lack of labels means we can't get a direct metric for performance, we can use a random sample and see if the classification decisions made match our human intuitions, which is what we do here."
   ]
  },
  {
   "cell_type": "code",
   "execution_count": 0,
   "metadata": {
    "colab": {},
    "colab_type": "code",
    "collapsed": true,
    "id": "F9LjLscGfaEL"
   },
   "outputs": [],
   "source": [
    "# Import blight df (named train.csv). Perform preprocessing on names so that they can be inputted to the Keras model and use the model to predict entity types.\n",
    "# Convert predictions from one hot encoding to label encoding. Review performance on a small sample, say 100 values and see if the predictions match human intutions.\n",
    "# But first randomly sample the column to get a fair representation.\n",
    "\n",
    "blight = pd.read_csv('train.csv', engine = 'python')\n",
    "\n",
    "violator_names = blight['violator_name']\n",
    "\n",
    "# Names should only contain alphabetical characters.\n",
    "violator_names = violator_names.str.replace(r'([^\\s\\w]|_)+', '')\n",
    "# lowercase\n",
    "violator_names = violator_names.str.lower()  \n",
    "# Replace multiple spaces with single spaces.\n",
    "violator_names = violator_names.str.replace(r'\\s+', ' ')\n",
    "# Strip whitespace\n",
    "violator_names = violator_names.str.strip()\n",
    "\n",
    "# Convert names into sequences of character level unigrams, bigrams and trigrams.\n",
    "trigrams = violator_names.apply(lambda x: word2ngrams(str(x)))\n",
    "bigrams = violator_names.apply(lambda x: word2ngrams(str(x), n = 2))\n",
    "unigrams = violator_names.apply(lambda x: word2ngrams(str(x), n = 1))\n",
    "\n",
    "# Convert lists to array format for efficiency.\n",
    "trigrams = trigrams.apply(array)\n",
    "bigrams = bigrams.apply(array)\n",
    "unigrams = unigrams.apply(array)\n",
    "\n",
    "# Apply array to string funciton. This inserts a separator | between the character level ngrams, which will be used for splitting when applying the Keras Tokenizer defined earlier.\n",
    "bigrams = bigrams.apply(array_to_string)\n",
    "trigrams = trigrams.apply(array_to_string)\n",
    "unigrams = unigrams.apply(array_to_string)\n",
    "\n",
    "# Create unigram sequences for keras model using keras tokenizer\n",
    "unigram_sequences = t1.texts_to_sequences(list(unigrams))\n",
    "# Create bigram sequences.\n",
    "bigram_sequences = t2.texts_to_sequences(list(bigrams))\n",
    "# Create trigram sequences.\n",
    "trigram_sequences = t3.texts_to_sequences(list(trigrams))\n",
    "# Make all sequences the same length using padding.\n",
    "X_unigram = pad_sequences(unigram_sequences, maxlen = max_length_unigram, padding = 'post')\n",
    "X_bigram = pad_sequences(bigram_sequences, maxlen = max_length_bigram, padding = 'post')\n",
    "X_trigram = pad_sequences(trigram_sequences, maxlen = max_length_trigram, padding = 'post')\n",
    "\n",
    "# Predict probabilities of each class.\n",
    "y_prob = model.predict([X_unigram, X_bigram, X_trigram])\n",
    "# Convert probabilities to class predictions.\n",
    "y_classes = y_prob.argmax(axis=-1)\n",
    "\n",
    "\n",
    "\n",
    "\n",
    "\n"
   ]
  },
  {
   "cell_type": "code",
   "execution_count": 86,
   "metadata": {
    "colab": {
     "base_uri": "https://localhost:8080/",
     "height": 1948
    },
    "colab_type": "code",
    "id": "nB7bE2LyRJZq",
    "outputId": "08e02d2e-af79-4bc0-e50c-6d70a0773782"
   },
   "outputs": [
    {
     "data": {
      "text/html": [
       "<div>\n",
       "<style scoped>\n",
       "    .dataframe tbody tr th:only-of-type {\n",
       "        vertical-align: middle;\n",
       "    }\n",
       "\n",
       "    .dataframe tbody tr th {\n",
       "        vertical-align: top;\n",
       "    }\n",
       "\n",
       "    .dataframe thead th {\n",
       "        text-align: right;\n",
       "    }\n",
       "</style>\n",
       "<table border=\"1\" class=\"dataframe\">\n",
       "  <thead>\n",
       "    <tr style=\"text-align: right;\">\n",
       "      <th></th>\n",
       "      <th>label</th>\n",
       "      <th>name</th>\n",
       "    </tr>\n",
       "  </thead>\n",
       "  <tbody>\n",
       "    <tr>\n",
       "      <th>0</th>\n",
       "      <td>female</td>\n",
       "      <td>johnson james</td>\n",
       "    </tr>\n",
       "    <tr>\n",
       "      <th>1</th>\n",
       "      <td>female</td>\n",
       "      <td>flowers jay</td>\n",
       "    </tr>\n",
       "    <tr>\n",
       "      <th>2</th>\n",
       "      <td>male</td>\n",
       "      <td>thomas frank</td>\n",
       "    </tr>\n",
       "    <tr>\n",
       "      <th>3</th>\n",
       "      <td>male</td>\n",
       "      <td>ewing david</td>\n",
       "    </tr>\n",
       "    <tr>\n",
       "      <th>4</th>\n",
       "      <td>female</td>\n",
       "      <td>abel lucile</td>\n",
       "    </tr>\n",
       "    <tr>\n",
       "      <th>5</th>\n",
       "      <td>male</td>\n",
       "      <td>grice desean jamil</td>\n",
       "    </tr>\n",
       "    <tr>\n",
       "      <th>6</th>\n",
       "      <td>male</td>\n",
       "      <td>marcum lenord</td>\n",
       "    </tr>\n",
       "    <tr>\n",
       "      <th>7</th>\n",
       "      <td>finance</td>\n",
       "      <td>national assoc us bank</td>\n",
       "    </tr>\n",
       "    <tr>\n",
       "      <th>8</th>\n",
       "      <td>non profit</td>\n",
       "      <td>mortgage new century</td>\n",
       "    </tr>\n",
       "    <tr>\n",
       "      <th>9</th>\n",
       "      <td>female</td>\n",
       "      <td>hayes elijah</td>\n",
       "    </tr>\n",
       "    <tr>\n",
       "      <th>10</th>\n",
       "      <td>male</td>\n",
       "      <td>servicing litton loan</td>\n",
       "    </tr>\n",
       "    <tr>\n",
       "      <th>11</th>\n",
       "      <td>limited liability</td>\n",
       "      <td>services llc aurora loan</td>\n",
       "    </tr>\n",
       "    <tr>\n",
       "      <th>12</th>\n",
       "      <td>female</td>\n",
       "      <td>kenny carol</td>\n",
       "    </tr>\n",
       "    <tr>\n",
       "      <th>13</th>\n",
       "      <td>female</td>\n",
       "      <td>cleveland jesse</td>\n",
       "    </tr>\n",
       "    <tr>\n",
       "      <th>14</th>\n",
       "      <td>male</td>\n",
       "      <td>mann edwin m</td>\n",
       "    </tr>\n",
       "    <tr>\n",
       "      <th>15</th>\n",
       "      <td>male</td>\n",
       "      <td>williams mount</td>\n",
       "    </tr>\n",
       "    <tr>\n",
       "      <th>16</th>\n",
       "      <td>female</td>\n",
       "      <td>devils soul</td>\n",
       "    </tr>\n",
       "    <tr>\n",
       "      <th>17</th>\n",
       "      <td>male</td>\n",
       "      <td>khalil kassem m</td>\n",
       "    </tr>\n",
       "    <tr>\n",
       "      <th>18</th>\n",
       "      <td>male</td>\n",
       "      <td>ellis marcus</td>\n",
       "    </tr>\n",
       "    <tr>\n",
       "      <th>19</th>\n",
       "      <td>foreign profit</td>\n",
       "      <td>home lenders inc accredited</td>\n",
       "    </tr>\n",
       "    <tr>\n",
       "      <th>20</th>\n",
       "      <td>male</td>\n",
       "      <td>high antone c</td>\n",
       "    </tr>\n",
       "    <tr>\n",
       "      <th>21</th>\n",
       "      <td>male</td>\n",
       "      <td>daronco barbara</td>\n",
       "    </tr>\n",
       "    <tr>\n",
       "      <th>22</th>\n",
       "      <td>female</td>\n",
       "      <td>pitts linda</td>\n",
       "    </tr>\n",
       "    <tr>\n",
       "      <th>23</th>\n",
       "      <td>non profit</td>\n",
       "      <td>cathedral church unity apostolic</td>\n",
       "    </tr>\n",
       "    <tr>\n",
       "      <th>24</th>\n",
       "      <td>female</td>\n",
       "      <td>ferguson leslie</td>\n",
       "    </tr>\n",
       "    <tr>\n",
       "      <th>25</th>\n",
       "      <td>foreign profit</td>\n",
       "      <td>earnest cora</td>\n",
       "    </tr>\n",
       "    <tr>\n",
       "      <th>26</th>\n",
       "      <td>male</td>\n",
       "      <td>golden rl</td>\n",
       "    </tr>\n",
       "    <tr>\n",
       "      <th>27</th>\n",
       "      <td>female</td>\n",
       "      <td>burger betty</td>\n",
       "    </tr>\n",
       "    <tr>\n",
       "      <th>28</th>\n",
       "      <td>male</td>\n",
       "      <td>calzada armando</td>\n",
       "    </tr>\n",
       "    <tr>\n",
       "      <th>29</th>\n",
       "      <td>non profit</td>\n",
       "      <td>scholarship clarence smith sr</td>\n",
       "    </tr>\n",
       "    <tr>\n",
       "      <th>...</th>\n",
       "      <td>...</td>\n",
       "      <td>...</td>\n",
       "    </tr>\n",
       "    <tr>\n",
       "      <th>70</th>\n",
       "      <td>male</td>\n",
       "      <td>jr frank reedus</td>\n",
       "    </tr>\n",
       "    <tr>\n",
       "      <th>71</th>\n",
       "      <td>female</td>\n",
       "      <td>faraj oussama</td>\n",
       "    </tr>\n",
       "    <tr>\n",
       "      <th>72</th>\n",
       "      <td>male</td>\n",
       "      <td>village homes east</td>\n",
       "    </tr>\n",
       "    <tr>\n",
       "      <th>73</th>\n",
       "      <td>foreign profit</td>\n",
       "      <td>mortgage inc royal american</td>\n",
       "    </tr>\n",
       "    <tr>\n",
       "      <th>74</th>\n",
       "      <td>female</td>\n",
       "      <td>resnich goldie</td>\n",
       "    </tr>\n",
       "    <tr>\n",
       "      <th>75</th>\n",
       "      <td>female</td>\n",
       "      <td>maples natacha</td>\n",
       "    </tr>\n",
       "    <tr>\n",
       "      <th>76</th>\n",
       "      <td>female</td>\n",
       "      <td>taylor pauline</td>\n",
       "    </tr>\n",
       "    <tr>\n",
       "      <th>77</th>\n",
       "      <td>female</td>\n",
       "      <td>thompson nathaniel</td>\n",
       "    </tr>\n",
       "    <tr>\n",
       "      <th>78</th>\n",
       "      <td>female</td>\n",
       "      <td>rivera juan</td>\n",
       "    </tr>\n",
       "    <tr>\n",
       "      <th>79</th>\n",
       "      <td>male</td>\n",
       "      <td>maple ezekiel</td>\n",
       "    </tr>\n",
       "    <tr>\n",
       "      <th>80</th>\n",
       "      <td>female</td>\n",
       "      <td>osby grace</td>\n",
       "    </tr>\n",
       "    <tr>\n",
       "      <th>81</th>\n",
       "      <td>finance</td>\n",
       "      <td>wells fargo bank na wells fargo bank na</td>\n",
       "    </tr>\n",
       "    <tr>\n",
       "      <th>82</th>\n",
       "      <td>male</td>\n",
       "      <td>payton denise</td>\n",
       "    </tr>\n",
       "    <tr>\n",
       "      <th>83</th>\n",
       "      <td>female</td>\n",
       "      <td>holyfield jimmy</td>\n",
       "    </tr>\n",
       "    <tr>\n",
       "      <th>84</th>\n",
       "      <td>non profit</td>\n",
       "      <td>properties mac beth</td>\n",
       "    </tr>\n",
       "    <tr>\n",
       "      <th>85</th>\n",
       "      <td>female</td>\n",
       "      <td>homes treasure</td>\n",
       "    </tr>\n",
       "    <tr>\n",
       "      <th>86</th>\n",
       "      <td>male</td>\n",
       "      <td>bradford dennis</td>\n",
       "    </tr>\n",
       "    <tr>\n",
       "      <th>87</th>\n",
       "      <td>female</td>\n",
       "      <td>williams mary</td>\n",
       "    </tr>\n",
       "    <tr>\n",
       "      <th>88</th>\n",
       "      <td>female</td>\n",
       "      <td>erkfritz jennifer</td>\n",
       "    </tr>\n",
       "    <tr>\n",
       "      <th>89</th>\n",
       "      <td>housing</td>\n",
       "      <td>invest propertie urban suburban</td>\n",
       "    </tr>\n",
       "    <tr>\n",
       "      <th>90</th>\n",
       "      <td>female</td>\n",
       "      <td>chang dang</td>\n",
       "    </tr>\n",
       "    <tr>\n",
       "      <th>91</th>\n",
       "      <td>female</td>\n",
       "      <td>woodrow william</td>\n",
       "    </tr>\n",
       "    <tr>\n",
       "      <th>92</th>\n",
       "      <td>non profit</td>\n",
       "      <td>medical care primary care</td>\n",
       "    </tr>\n",
       "    <tr>\n",
       "      <th>93</th>\n",
       "      <td>female</td>\n",
       "      <td>shpelak kristina</td>\n",
       "    </tr>\n",
       "    <tr>\n",
       "      <th>94</th>\n",
       "      <td>female</td>\n",
       "      <td>bailey joan</td>\n",
       "    </tr>\n",
       "    <tr>\n",
       "      <th>95</th>\n",
       "      <td>male</td>\n",
       "      <td>davis carlton r</td>\n",
       "    </tr>\n",
       "    <tr>\n",
       "      <th>96</th>\n",
       "      <td>male</td>\n",
       "      <td>lee jr earnest</td>\n",
       "    </tr>\n",
       "    <tr>\n",
       "      <th>97</th>\n",
       "      <td>male</td>\n",
       "      <td>kelley wilbert</td>\n",
       "    </tr>\n",
       "    <tr>\n",
       "      <th>98</th>\n",
       "      <td>female</td>\n",
       "      <td>ballestero arleana</td>\n",
       "    </tr>\n",
       "    <tr>\n",
       "      <th>99</th>\n",
       "      <td>female</td>\n",
       "      <td>stover louise</td>\n",
       "    </tr>\n",
       "  </tbody>\n",
       "</table>\n",
       "<p>100 rows × 2 columns</p>\n",
       "</div>"
      ],
      "text/plain": [
       "                label                                     name\n",
       "0              female                            johnson james\n",
       "1              female                              flowers jay\n",
       "2                male                             thomas frank\n",
       "3                male                              ewing david\n",
       "4              female                              abel lucile\n",
       "5                male                       grice desean jamil\n",
       "6                male                            marcum lenord\n",
       "7             finance                   national assoc us bank\n",
       "8          non profit                     mortgage new century\n",
       "9              female                             hayes elijah\n",
       "10               male                    servicing litton loan\n",
       "11  limited liability                 services llc aurora loan\n",
       "12             female                              kenny carol\n",
       "13             female                          cleveland jesse\n",
       "14               male                             mann edwin m\n",
       "15               male                           williams mount\n",
       "16             female                              devils soul\n",
       "17               male                          khalil kassem m\n",
       "18               male                             ellis marcus\n",
       "19     foreign profit              home lenders inc accredited\n",
       "20               male                            high antone c\n",
       "21               male                          daronco barbara\n",
       "22             female                              pitts linda\n",
       "23         non profit         cathedral church unity apostolic\n",
       "24             female                          ferguson leslie\n",
       "25     foreign profit                             earnest cora\n",
       "26               male                                golden rl\n",
       "27             female                             burger betty\n",
       "28               male                          calzada armando\n",
       "29         non profit            scholarship clarence smith sr\n",
       "..                ...                                      ...\n",
       "70               male                          jr frank reedus\n",
       "71             female                            faraj oussama\n",
       "72               male                       village homes east\n",
       "73     foreign profit              mortgage inc royal american\n",
       "74             female                           resnich goldie\n",
       "75             female                           maples natacha\n",
       "76             female                           taylor pauline\n",
       "77             female                       thompson nathaniel\n",
       "78             female                              rivera juan\n",
       "79               male                            maple ezekiel\n",
       "80             female                               osby grace\n",
       "81            finance  wells fargo bank na wells fargo bank na\n",
       "82               male                            payton denise\n",
       "83             female                          holyfield jimmy\n",
       "84         non profit                      properties mac beth\n",
       "85             female                           homes treasure\n",
       "86               male                          bradford dennis\n",
       "87             female                            williams mary\n",
       "88             female                        erkfritz jennifer\n",
       "89            housing          invest propertie urban suburban\n",
       "90             female                               chang dang\n",
       "91             female                          woodrow william\n",
       "92         non profit                medical care primary care\n",
       "93             female                         shpelak kristina\n",
       "94             female                              bailey joan\n",
       "95               male                          davis carlton r\n",
       "96               male                           lee jr earnest\n",
       "97               male                           kelley wilbert\n",
       "98             female                       ballestero arleana\n",
       "99             female                            stover louise\n",
       "\n",
       "[100 rows x 2 columns]"
      ]
     },
     "execution_count": 86,
     "metadata": {
      "tags": []
     },
     "output_type": "execute_result"
    }
   ],
   "source": [
    "# Note that Keras labels the classes alphabetically. Hence if there were a class named 'a' this would be associated with the number 0 in label encoding.\n",
    "# Using this, we can define a dicitonary mapping numbers to their associated class name.\n",
    "mydict = {k:v for k,v in zip([i for i in range(10)],sorted(class_names))}\n",
    "\n",
    "# Convert the labels to class names using the dictionary\n",
    "labels = np.vectorize(mydict.get)(y_classes)\n",
    "# Create a comparison dataframe so we can compare the name with the predicted class (entity type). We will view this and see how well the model performs on the\n",
    "# actual dataset we want to predict on.\n",
    "comparison = pd.DataFrame({'name': violator_names, 'label': labels})\n",
    "# We want to view the shuffled comparison dataframe because it is ordered by name so that some entities appear in multiple consecutive rows. We aren't interested\n",
    "# in predictions on the same data and so we resample.\n",
    "shuffledcomparison = comparison.sample(frac = 1, random_state = 6).reset_index(drop = True)\n",
    "# View the first 100 samples so that we can see how the model performs using our human intuition. This is the best we can do to review the performance of the model\n",
    "# because there are no labels.\n",
    "shuffledcomparison.head(100)"
   ]
  },
  {
   "cell_type": "markdown",
   "metadata": {},
   "source": [
    "As we can see, peformance is not as good as expected given the performance on the test set. This reflects all the difficulties spelled out in the introduction."
   ]
  },
  {
   "cell_type": "code",
   "execution_count": 87,
   "metadata": {
    "colab": {
     "base_uri": "https://localhost:8080/",
     "height": 207
    },
    "colab_type": "code",
    "id": "eKOMBENFXt95",
    "outputId": "1eac7f87-822e-4a68-b793-6b82055a0f64"
   },
   "outputs": [
    {
     "data": {
      "text/plain": [
       "female               102237\n",
       "male                  92557\n",
       "non profit            22696\n",
       "limited liability     11664\n",
       "foreign profit        10870\n",
       "finance                5430\n",
       "partnership            3903\n",
       "housing                 710\n",
       "coop                    152\n",
       "professional             87\n",
       "Name: label, dtype: int64"
      ]
     },
     "execution_count": 87,
     "metadata": {
      "tags": []
     },
     "output_type": "execute_result"
    }
   ],
   "source": [
    "# View the number of predicted values for each type.\n",
    "shuffledcomparison['label'].value_counts()"
   ]
  },
  {
   "cell_type": "markdown",
   "metadata": {},
   "source": [
    "## Conclusion"
   ]
  },
  {
   "cell_type": "markdown",
   "metadata": {},
   "source": [
    "The model performs extremely well, especially considering the limitations of the training data. However, it is unable to predict labels for our blight task with sufficient accuracy to improve the predictive power of the blight model. This is not a weakness of the entity recognition model designed here, however. Instead, it reflects the fact that the training data is unrepresentative of the blight names data because the lack of labels in the blight names data means it was impossible to achieve the same formatting for names in the training data."
   ]
  }
 ],
 "metadata": {
  "accelerator": "GPU",
  "colab": {
   "collapsed_sections": [],
   "name": "Entity Identifier",
   "provenance": [],
   "version": "0.3.2"
  },
  "kernelspec": {
   "display_name": "Python 3",
   "language": "python",
   "name": "python3"
  },
  "language_info": {
   "codemirror_mode": {
    "name": "ipython",
    "version": 3
   },
   "file_extension": ".py",
   "mimetype": "text/x-python",
   "name": "python",
   "nbconvert_exporter": "python",
   "pygments_lexer": "ipython3",
   "version": "3.6.3"
  }
 },
 "nbformat": 4,
 "nbformat_minor": 1
}
